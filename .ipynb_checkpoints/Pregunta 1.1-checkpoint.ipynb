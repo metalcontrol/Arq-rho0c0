{
 "cells": [
  {
   "cell_type": "code",
   "execution_count": 1,
   "id": "d7628510-dfad-44ad-b891-60f8065774d9",
   "metadata": {},
   "outputs": [],
   "source": [
    "import numpy as np\n",
    "import itertools\n",
    "from itertools import product"
   ]
  },
  {
   "cell_type": "code",
   "execution_count": 2,
   "id": "39f09cdf-62d2-4b6f-874a-fefc684b6b56",
   "metadata": {},
   "outputs": [],
   "source": [
    "def frecuencia_modos(nx, ny, nz, lx, ly, lz, c0=343):\n",
    "    return (c0 / 2) * np.sqrt((nx / lx) ** 2 + (ny / ly) ** 2 + (nz / lz) ** 2)\n",
    "\n",
    "def clasificar_modo(nx, ny, nz):\n",
    "    num_ceros = sum([nx == 0, ny == 0, nz == 0])\n",
    "    if num_ceros == 2:\n",
    "        return \"Axial\"\n",
    "    elif num_ceros == 1:\n",
    "        return \"Tangencial\"\n",
    "    else:\n",
    "        return \"Oblicuo\"\n",
    "\n",
    "\n",
    "def modos_degenerados(frecuencias, tolerancia=1.0):\n",
    "    degenerados = []\n",
    "    n = len(frecuencias)\n",
    "    usados = set()\n",
    "    for i in range(n):\n",
    "        for j in range(i+1, n):\n",
    "            if abs(frecuencias[i][3] - frecuencias[j][3]) <= tolerancia:\n",
    "                for k in range(j+1, n):\n",
    "                    if abs(frecuencias[i][3] - frecuencias[j][3]) <= tolerancia and abs(frecuencias[j][3] - frecuencias[k][3]) <= tolerancia:\n",
    "                        degenerados.append((frecuencias[i], frecuencias[j], frecuencias[k]))\n",
    "                        usados.update([i, j, k])\n",
    "                        break\n",
    "                else:\n",
    "                    if i not in usados and j not in usados:\n",
    "                        degenerados.append((frecuencias[i], frecuencias[j]))\n",
    "                        usados.update([i, j])\n",
    "    return degenerados"
   ]
  },
  {
   "cell_type": "code",
   "execution_count": 3,
   "id": "e3caf72d-6c93-4bb7-95f5-fc50a1008b15",
   "metadata": {},
   "outputs": [],
   "source": [
    "# Dimensiones del recinto en metros\n",
    "lx, ly, lz = 3, 4, 3.5"
   ]
  },
  {
   "cell_type": "code",
   "execution_count": 4,
   "id": "dcb2e522-98b7-4d08-9680-4865acc670fb",
   "metadata": {},
   "outputs": [],
   "source": [
    "modos = itertools.product(range(6), repeat=3)  # Genera combinaciones de (nx, ny, nz)\n",
    "frecuencias = [(nx, ny, nz, frecuencia_modos(nx, ny, nz, lx, ly, lz)) for nx, ny, nz in modos]\n",
    "frecuencias = [f for f in frecuencias if f[3] > 0]\n",
    "frecuencias.sort(key=lambda x: x[3])"
   ]
  },
  {
   "cell_type": "code",
   "execution_count": 5,
   "id": "ed204c31-4307-416e-b36f-e3d7003e8a63",
   "metadata": {},
   "outputs": [
    {
     "name": "stdout",
     "output_type": "stream",
     "text": [
      "Las 30 frecuencias más bajas son:\n",
      "1. Modo (0,1,0): 42.88 Hz - Axial\n",
      "2. Modo (0,0,1): 49.00 Hz - Axial\n",
      "3. Modo (1,0,0): 57.17 Hz - Axial\n",
      "4. Modo (0,1,1): 65.11 Hz - Tangencial\n",
      "5. Modo (1,1,0): 71.46 Hz - Tangencial\n",
      "6. Modo (1,0,1): 75.29 Hz - Tangencial\n",
      "7. Modo (0,2,0): 85.75 Hz - Axial\n",
      "8. Modo (1,1,1): 86.64 Hz - Oblicuo\n",
      "9. Modo (0,0,2): 98.00 Hz - Axial\n",
      "10. Modo (0,2,1): 98.76 Hz - Tangencial\n",
      "11. Modo (1,2,0): 103.06 Hz - Tangencial\n",
      "12. Modo (0,1,2): 106.97 Hz - Tangencial\n",
      "13. Modo (1,0,2): 113.45 Hz - Tangencial\n",
      "14. Modo (1,2,1): 114.11 Hz - Oblicuo\n",
      "15. Modo (2,0,0): 114.33 Hz - Axial\n",
      "16. Modo (1,1,2): 121.29 Hz - Oblicuo\n",
      "17. Modo (2,1,0): 122.11 Hz - Tangencial\n",
      "18. Modo (2,0,1): 124.39 Hz - Tangencial\n",
      "19. Modo (0,3,0): 128.62 Hz - Axial\n",
      "20. Modo (0,2,2): 130.22 Hz - Tangencial\n",
      "21. Modo (2,1,1): 131.57 Hz - Oblicuo\n",
      "22. Modo (0,3,1): 137.64 Hz - Tangencial\n",
      "23. Modo (1,3,0): 140.76 Hz - Tangencial\n",
      "24. Modo (1,2,2): 142.21 Hz - Oblicuo\n",
      "25. Modo (2,2,0): 142.92 Hz - Tangencial\n",
      "26. Modo (0,0,3): 147.00 Hz - Axial\n",
      "27. Modo (1,3,1): 149.04 Hz - Oblicuo\n",
      "28. Modo (2,0,2): 150.59 Hz - Tangencial\n",
      "29. Modo (2,2,1): 151.08 Hz - Oblicuo\n",
      "30. Modo (0,1,3): 153.12 Hz - Tangencial\n"
     ]
    }
   ],
   "source": [
    "print(\"Las 30 frecuencias más bajas son:\")\n",
    "for i, (nx, ny, nz, f) in enumerate(frecuencias[:30], 1):\n",
    "    tipo = clasificar_modo(nx, ny, nz)\n",
    "    print(f\"{i}. Modo ({nx},{ny},{nz}): {f:.2f} Hz - {tipo}\")"
   ]
  },
  {
   "cell_type": "code",
   "execution_count": 6,
   "id": "930ba22d-0bf6-49b6-aaa9-6bf2d5dd9a5d",
   "metadata": {},
   "outputs": [
    {
     "name": "stdout",
     "output_type": "stream",
     "text": [
      "\n",
      "Modos degenerados dentro de la tolerancia de 1.0 Hz:\n",
      "Modo (0,2,0) - 85.75 Hz y Modo (1,1,1) - 86.64 Hz\n",
      "Modo (0,0,2) - 98.00 Hz y Modo (0,2,1) - 98.76 Hz\n",
      "Modo (1,0,2) - 113.45 Hz , Modo (1,2,1) - 114.11 Hz y Modo (2,0,0) - 114.33 Hz\n",
      "Modo (1,1,2) - 121.29 Hz y Modo (2,1,0) - 122.11 Hz\n",
      "Modo (1,2,2) - 142.21 Hz y Modo (2,2,0) - 142.92 Hz\n",
      "Modo (2,0,2) - 150.59 Hz y Modo (2,2,1) - 151.08 Hz\n"
     ]
    }
   ],
   "source": [
    "# Identificar modos degenerados entre las primeras 30 frecuencias\n",
    "tolerancia = 1.0 # Tolerancia en Hz\n",
    "degenerados = modos_degenerados(frecuencias[:30], tolerancia)\n",
    "print(\"\\nModos degenerados dentro de la tolerancia de 1.0 Hz:\")\n",
    "for modo in degenerados:\n",
    "    if len(modo) == 2:\n",
    "        (nx1, ny1, nz1, f1), (nx2, ny2, nz2, f2) = modo\n",
    "        print(f\"Modo ({nx1},{ny1},{nz1}) - {f1:.2f} Hz y Modo ({nx2},{ny2},{nz2}) - {f2:.2f} Hz\")\n",
    "    elif len(modo) == 3:\n",
    "        (nx1, ny1, nz1, f1), (nx2, ny2, nz2, f2), (nx3, ny3, nz3, f3) = modo\n",
    "        print(f\"Modo ({nx1},{ny1},{nz1}) - {f1:.2f} Hz , Modo ({nx2},{ny2},{nz2}) - {f2:.2f} Hz y Modo ({nx3},{ny3},{nz3}) - {f3:.2f} Hz\")"
   ]
  },
  {
   "cell_type": "code",
   "execution_count": 7,
   "id": "d5d32128-8bfa-4137-a48f-48816284c9e9",
   "metadata": {},
   "outputs": [
    {
     "name": "stdout",
     "output_type": "stream",
     "text": [
      "Requirement already satisfied: pyroomacoustics in c:\\users\\patricio\\.conda\\envs\\pat\\lib\\site-packages (0.8.3)\n",
      "Requirement already satisfied: Cython in c:\\users\\patricio\\.conda\\envs\\pat\\lib\\site-packages (from pyroomacoustics) (3.0.12)\n",
      "Requirement already satisfied: numpy>=1.13.0 in c:\\users\\patricio\\.conda\\envs\\pat\\lib\\site-packages (from pyroomacoustics) (2.2.4)\n",
      "Requirement already satisfied: scipy>=0.18.0 in c:\\users\\patricio\\.conda\\envs\\pat\\lib\\site-packages (from pyroomacoustics) (1.15.2)\n",
      "Requirement already satisfied: pybind11>=2.2 in c:\\users\\patricio\\.conda\\envs\\pat\\lib\\site-packages (from pyroomacoustics) (2.13.6)\n",
      "Note: you may need to restart the kernel to use updated packages.\n"
     ]
    }
   ],
   "source": [
    "pip install pyroomacoustics\n"
   ]
  },
  {
   "cell_type": "code",
   "execution_count": null,
   "id": "4c5bb63d-ec7a-4219-999a-a972a17abc19",
   "metadata": {},
   "outputs": [],
   "source": []
  }
 ],
 "metadata": {
  "kernelspec": {
   "display_name": "Python 3 (ipykernel)",
   "language": "python",
   "name": "python3"
  },
  "language_info": {
   "codemirror_mode": {
    "name": "ipython",
    "version": 3
   },
   "file_extension": ".py",
   "mimetype": "text/x-python",
   "name": "python",
   "nbconvert_exporter": "python",
   "pygments_lexer": "ipython3",
   "version": "3.10.16"
  }
 },
 "nbformat": 4,
 "nbformat_minor": 5
}

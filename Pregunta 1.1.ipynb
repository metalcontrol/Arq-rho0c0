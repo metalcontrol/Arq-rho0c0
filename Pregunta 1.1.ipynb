{
 "cells": [
  {
   "cell_type": "code",
   "execution_count": 1,
   "id": "d7628510-dfad-44ad-b891-60f8065774d9",
   "metadata": {},
   "outputs": [],
   "source": [
    "#Importar librerias\n",
    "\n",
    "import numpy as np\n",
    "import itertools\n",
    "from itertools import product\n",
    "import pandas as pd"
   ]
  },
  {
   "cell_type": "code",
   "execution_count": 2,
   "id": "39f09cdf-62d2-4b6f-874a-fefc684b6b56",
   "metadata": {},
   "outputs": [],
   "source": [
    "#Definir funciones a utilizar\n",
    "\n",
    "#Función que devuelve las frecuencias de resonancia de los modos\n",
    "def frecuencia_modos(nx, ny, nz, lx, ly, lz, c0=343):\n",
    "    return (c0 / 2) * np.sqrt((nx / lx) ** 2 + (ny / ly) ** 2 + (nz / lz) ** 2)\n",
    "\n",
    "#Función que clasifica los modos\n",
    "def clasificar_modo(nx, ny, nz):\n",
    "    num_ceros = sum([nx == 0, ny == 0, nz == 0])\n",
    "    if num_ceros == 2:\n",
    "        return \"Axial\"\n",
    "    elif num_ceros == 1:\n",
    "        return \"Tangencial\"\n",
    "    else:\n",
    "        return \"Oblicuo\"\n",
    "\n",
    "#Función que identifica los modos degenerados\n",
    "def modos_degenerados(frecuencias, tolerancia=1.0):\n",
    "    degenerados = []\n",
    "    n = len(frecuencias)\n",
    "    usados = set()\n",
    "    for i in range(n):\n",
    "        for j in range(i+1, n):\n",
    "            if abs(frecuencias[i][3] - frecuencias[j][3]) <= tolerancia:\n",
    "                for k in range(j+1, n):\n",
    "                    if abs(frecuencias[i][3] - frecuencias[j][3]) <= tolerancia and abs(frecuencias[j][3] - frecuencias[k][3]) <= tolerancia:\n",
    "                        degenerados.append((frecuencias[i], frecuencias[j], frecuencias[k]))\n",
    "                        usados.update([i, j, k])\n",
    "                        break\n",
    "                else:\n",
    "                    if i not in usados and j not in usados:\n",
    "                        degenerados.append((frecuencias[i], frecuencias[j]))\n",
    "                        usados.update([i, j])\n",
    "    return degenerados"
   ]
  },
  {
   "cell_type": "code",
   "execution_count": 3,
   "id": "e3caf72d-6c93-4bb7-95f5-fc50a1008b15",
   "metadata": {},
   "outputs": [],
   "source": [
    "# Dimensiones del recinto en metros\n",
    "lx, ly, lz = 4.11, 5.86, 2.49"
   ]
  },
  {
   "cell_type": "code",
   "execution_count": 4,
   "id": "dcb2e522-98b7-4d08-9680-4865acc670fb",
   "metadata": {},
   "outputs": [],
   "source": [
    "#Calcula los modos hasta una frecuencia deseada\n",
    "frecuencias = []\n",
    "N_max = 30\n",
    "f_max = 300  # Frecuencia máxima deseada (Hz)\n",
    "\n",
    "for nx in range(N_max + 1):\n",
    "    for ny in range(N_max + 1):\n",
    "        for nz in range(N_max + 1):\n",
    "            if (nx, ny, nz) == (0, 0, 0):\n",
    "                continue  # Ignora el modo trivial\n",
    "            f_m = frecuencia_modos(nx, ny, nz, lx, ly, lz)\n",
    "            if f_m <= f_max:\n",
    "                frecuencias.append((nx, ny, nz, f_m))\n",
    "\n",
    "# ordenar por frecuencia\n",
    "frecuencias.sort(key=lambda x: x[3])"
   ]
  },
  {
   "cell_type": "code",
   "execution_count": 5,
   "id": "179fac0e",
   "metadata": {},
   "outputs": [
    {
     "name": "stdout",
     "output_type": "stream",
     "text": [
      "Las 30 frecuencias más bajas son:\n",
      "1. Modo (0,1,0): 29.27 Hz - Axial\n",
      "2. Modo (1,0,0): 41.73 Hz - Axial\n",
      "3. Modo (1,1,0): 50.97 Hz - Tangencial\n",
      "4. Modo (0,2,0): 58.53 Hz - Axial\n",
      "5. Modo (0,0,1): 68.88 Hz - Axial\n",
      "6. Modo (1,2,0): 71.88 Hz - Tangencial\n",
      "7. Modo (0,1,1): 74.84 Hz - Tangencial\n",
      "8. Modo (1,0,1): 80.53 Hz - Tangencial\n",
      "9. Modo (2,0,0): 83.45 Hz - Axial\n",
      "10. Modo (1,1,1): 85.68 Hz - Oblicuo\n",
      "11. Modo (0,3,0): 87.80 Hz - Axial\n",
      "12. Modo (2,1,0): 88.44 Hz - Tangencial\n",
      "13. Modo (0,2,1): 90.39 Hz - Tangencial\n",
      "14. Modo (1,3,0): 97.21 Hz - Tangencial\n",
      "15. Modo (1,2,1): 99.55 Hz - Oblicuo\n",
      "16. Modo (2,2,0): 101.94 Hz - Tangencial\n",
      "17. Modo (2,0,1): 108.21 Hz - Tangencial\n",
      "18. Modo (0,3,1): 111.59 Hz - Tangencial\n",
      "19. Modo (2,1,1): 112.09 Hz - Oblicuo\n",
      "20. Modo (0,4,0): 117.06 Hz - Axial\n",
      "21. Modo (1,3,1): 119.14 Hz - Oblicuo\n",
      "22. Modo (2,3,0): 121.13 Hz - Tangencial\n",
      "23. Modo (2,2,1): 123.02 Hz - Oblicuo\n",
      "24. Modo (1,4,0): 124.28 Hz - Tangencial\n",
      "25. Modo (3,0,0): 125.18 Hz - Axial\n",
      "26. Modo (3,1,0): 128.56 Hz - Tangencial\n",
      "27. Modo (0,4,1): 135.82 Hz - Tangencial\n",
      "28. Modo (0,0,2): 137.75 Hz - Axial\n",
      "29. Modo (3,2,0): 138.19 Hz - Tangencial\n",
      "30. Modo (2,3,1): 139.35 Hz - Oblicuo\n"
     ]
    }
   ],
   "source": [
    "# Imprime las 30 frecuencias más bajas\n",
    "\n",
    "print(\"Las 30 frecuencias más bajas son:\")\n",
    "for i, (nx, ny, nz, f) in enumerate(frecuencias[:30], 1):\n",
    "    tipo = clasificar_modo(nx, ny, nz)\n",
    "    print(f\"{i}. Modo ({nx},{ny},{nz}): {f:.2f} Hz - {tipo}\")"
   ]
  },
  {
   "cell_type": "code",
   "execution_count": 6,
   "id": "930ba22d-0bf6-49b6-aaa9-6bf2d5dd9a5d",
   "metadata": {},
   "outputs": [
    {
     "name": "stdout",
     "output_type": "stream",
     "text": [
      "\n",
      "Modos degenerados dentro de la tolerancia de 1.0 Hz:\n",
      "Modo (0,3,0) - 87.80 Hz y Modo (2,1,0) - 88.44 Hz\n",
      "Modo (0,3,1) - 111.59 Hz y Modo (2,1,1) - 112.09 Hz\n",
      "Modo (1,4,0) - 124.28 Hz y Modo (3,0,0) - 125.18 Hz\n",
      "Modo (0,0,2) - 137.75 Hz y Modo (3,2,0) - 138.19 Hz\n"
     ]
    }
   ],
   "source": [
    "# Identificar modos degenerados entre las primeras 30 frecuencias\n",
    "tolerancia = 1.0 # Tolerancia en Hz\n",
    "degenerados = modos_degenerados(frecuencias[:30], tolerancia)\n",
    "print(\"\\nModos degenerados dentro de la tolerancia de 1.0 Hz:\")\n",
    "for modo in degenerados:\n",
    "    if len(modo) == 2:\n",
    "        (nx1, ny1, nz1, f1), (nx2, ny2, nz2, f2) = modo\n",
    "        print(f\"Modo ({nx1},{ny1},{nz1}) - {f1:.2f} Hz y Modo ({nx2},{ny2},{nz2}) - {f2:.2f} Hz\")\n",
    "    elif len(modo) == 3:\n",
    "        (nx1, ny1, nz1, f1), (nx2, ny2, nz2, f2), (nx3, ny3, nz3, f3) = modo\n",
    "        print(f\"Modo ({nx1},{ny1},{nz1}) - {f1:.2f} Hz , Modo ({nx2},{ny2},{nz2}) - {f2:.2f} Hz y Modo ({nx3},{ny3},{nz3}) - {f3:.2f} Hz\")"
   ]
  },
  {
   "cell_type": "code",
   "execution_count": 7,
   "id": "ed204c31-4307-416e-b36f-e3d7003e8a63",
   "metadata": {},
   "outputs": [
    {
     "name": "stdout",
     "output_type": "stream",
     "text": [
      "Archivo 'modos_lab.csv' exportado correctamente.\n"
     ]
    }
   ],
   "source": [
    "# Clasificar y guardar en listas\n",
    "nx_list, ny_list, nz_list, f_list, tipo_list = [], [], [], [], []\n",
    "\n",
    "for nx, ny, nz, f in frecuencias:\n",
    "    tipo = clasificar_modo(nx, ny, nz)\n",
    "    nx_list.append(nx)\n",
    "    ny_list.append(ny)\n",
    "    nz_list.append(nz)\n",
    "    f_list.append(f)\n",
    "    tipo_list.append(tipo.lower())  # convertir a minúsculas para compatibilidad\n",
    "\n",
    "# Crear DataFrame\n",
    "modos_df = pd.DataFrame({\n",
    "    'nx': nx_list,\n",
    "    'ny': ny_list,\n",
    "    'nz': nz_list,\n",
    "    'frecuencia': f_list,\n",
    "    'tipo': tipo_list\n",
    "})\n",
    "\n",
    "# Guardar como CSV\n",
    "modos_df.to_csv(\"modos_lab.csv\", index=False)\n",
    "print(\"Archivo 'modos_lab.csv' exportado correctamente.\")"
   ]
  },
  {
   "cell_type": "code",
   "execution_count": null,
   "id": "4c5bb63d-ec7a-4219-999a-a972a17abc19",
   "metadata": {},
   "outputs": [],
   "source": []
  }
 ],
 "metadata": {
  "kernelspec": {
   "display_name": "python3.10",
   "language": "python",
   "name": "python3"
  },
  "language_info": {
   "codemirror_mode": {
    "name": "ipython",
    "version": 3
   },
   "file_extension": ".py",
   "mimetype": "text/x-python",
   "name": "python",
   "nbconvert_exporter": "python",
   "pygments_lexer": "ipython3",
   "version": "3.10.15"
  }
 },
 "nbformat": 4,
 "nbformat_minor": 5
}

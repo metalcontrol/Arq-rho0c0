{
 "cells": [
  {
   "cell_type": "code",
   "execution_count": 1,
   "id": "d7628510-dfad-44ad-b891-60f8065774d9",
   "metadata": {},
   "outputs": [],
   "source": [
    "import numpy as np\n",
    "import itertools\n",
    "from itertools import product\n",
    "import pandas as pd"
   ]
  },
  {
   "cell_type": "code",
   "execution_count": 2,
   "id": "39f09cdf-62d2-4b6f-874a-fefc684b6b56",
   "metadata": {},
   "outputs": [],
   "source": [
    "def frecuencia_modos(nx, ny, nz, lx, ly, lz, c0=343):\n",
    "    return (c0 / 2) * np.sqrt((nx / lx) ** 2 + (ny / ly) ** 2 + (nz / lz) ** 2)\n",
    "\n",
    "def clasificar_modo(nx, ny, nz):\n",
    "    num_ceros = sum([nx == 0, ny == 0, nz == 0])\n",
    "    if num_ceros == 2:\n",
    "        return \"Axial\"\n",
    "    elif num_ceros == 1:\n",
    "        return \"Tangencial\"\n",
    "    else:\n",
    "        return \"Oblicuo\"\n",
    "\n",
    "\n",
    "def modos_degenerados(frecuencias, tolerancia=1.0):\n",
    "    degenerados = []\n",
    "    n = len(frecuencias)\n",
    "    usados = set()\n",
    "    for i in range(n):\n",
    "        for j in range(i+1, n):\n",
    "            if abs(frecuencias[i][3] - frecuencias[j][3]) <= tolerancia:\n",
    "                for k in range(j+1, n):\n",
    "                    if abs(frecuencias[i][3] - frecuencias[j][3]) <= tolerancia and abs(frecuencias[j][3] - frecuencias[k][3]) <= tolerancia:\n",
    "                        degenerados.append((frecuencias[i], frecuencias[j], frecuencias[k]))\n",
    "                        usados.update([i, j, k])\n",
    "                        break\n",
    "                else:\n",
    "                    if i not in usados and j not in usados:\n",
    "                        degenerados.append((frecuencias[i], frecuencias[j]))\n",
    "                        usados.update([i, j])\n",
    "    return degenerados"
   ]
  },
  {
   "cell_type": "code",
   "execution_count": 3,
   "id": "e3caf72d-6c93-4bb7-95f5-fc50a1008b15",
   "metadata": {},
   "outputs": [],
   "source": [
    "# Dimensiones del recinto en metros\n",
    "lx, ly, lz = 4.11, 5.56, 2.49"
   ]
  },
  {
   "cell_type": "code",
   "execution_count": null,
   "id": "dcb2e522-98b7-4d08-9680-4865acc670fb",
   "metadata": {},
   "outputs": [],
   "source": [
    "frecuencias = []\n",
    "N_max = 20\n",
    "f_max = 300  # Frecuencia máxima deseada (Hz)\n",
    "\n",
    "for nx in range(N_max + 1):\n",
    "    for ny in range(N_max + 1):\n",
    "        for nz in range(N_max + 1):\n",
    "            if (nx, ny, nz) == (0, 0, 0):\n",
    "                continue  # Ignora el modo trivial\n",
    "            f_m = frecuencia_modos(nx, ny, nz, lx, ly, lz)\n",
    "            if f_m <= f_max:\n",
    "                frecuencias.append((nx, ny, nz, f_m))"
   ]
  },
  {
   "cell_type": "code",
   "execution_count": null,
   "id": "ed204c31-4307-416e-b36f-e3d7003e8a63",
   "metadata": {},
   "outputs": [
    {
     "name": "stdout",
     "output_type": "stream",
     "text": [
      "Archivo 'modos_sala.csv' exportado correctamente.\n"
     ]
    }
   ],
   "source": [
    "# Clasificar y guardar en listas\n",
    "nx_list, ny_list, nz_list, f_list, tipo_list = [], [], [], [], []\n",
    "\n",
    "for nx, ny, nz, f in frecuencias:\n",
    "    tipo = clasificar_modo(nx, ny, nz)\n",
    "    nx_list.append(nx)\n",
    "    ny_list.append(ny)\n",
    "    nz_list.append(nz)\n",
    "    f_list.append(f)\n",
    "    tipo_list.append(tipo.lower())  # convertir a minúsculas para compatibilidad\n",
    "\n",
    "# Crear DataFrame\n",
    "modos_df = pd.DataFrame({\n",
    "    'nx': nx_list,\n",
    "    'ny': ny_list,\n",
    "    'nz': nz_list,\n",
    "    'frecuencia': f_list,\n",
    "    'tipo': tipo_list\n",
    "})\n",
    "\n",
    "# Guardar como CSV\n",
    "modos_df.to_csv(\"modos_sala.csv\", index=False)\n",
    "print(\"Archivo 'modos_sala.csv' exportado correctamente.\")"
   ]
  },
  {
   "cell_type": "code",
   "execution_count": 6,
   "id": "930ba22d-0bf6-49b6-aaa9-6bf2d5dd9a5d",
   "metadata": {},
   "outputs": [
    {
     "name": "stdout",
     "output_type": "stream",
     "text": [
      "\n",
      "Modos degenerados dentro de la tolerancia de 1.0 Hz:\n",
      "Modo (0,0,3) - 206.63 Hz y Modo (0,5,2) - 206.79 Hz\n",
      "Modo (0,1,2) - 141.16 Hz y Modo (0,4,1) - 141.30 Hz\n",
      "Modo (0,2,1) - 92.46 Hz y Modo (0,3,0) - 92.54 Hz\n",
      "Modo (0,4,2) - 184.93 Hz y Modo (0,6,0) - 185.07 Hz\n"
     ]
    }
   ],
   "source": [
    "# Identificar modos degenerados entre las primeras 30 frecuencias\n",
    "tolerancia = 1.0 # Tolerancia en Hz\n",
    "degenerados = modos_degenerados(frecuencias[:30], tolerancia)\n",
    "print(\"\\nModos degenerados dentro de la tolerancia de 1.0 Hz:\")\n",
    "for modo in degenerados:\n",
    "    if len(modo) == 2:\n",
    "        (nx1, ny1, nz1, f1), (nx2, ny2, nz2, f2) = modo\n",
    "        print(f\"Modo ({nx1},{ny1},{nz1}) - {f1:.2f} Hz y Modo ({nx2},{ny2},{nz2}) - {f2:.2f} Hz\")\n",
    "    elif len(modo) == 3:\n",
    "        (nx1, ny1, nz1, f1), (nx2, ny2, nz2, f2), (nx3, ny3, nz3, f3) = modo\n",
    "        print(f\"Modo ({nx1},{ny1},{nz1}) - {f1:.2f} Hz , Modo ({nx2},{ny2},{nz2}) - {f2:.2f} Hz y Modo ({nx3},{ny3},{nz3}) - {f3:.2f} Hz\")"
   ]
  },
  {
   "cell_type": "code",
   "execution_count": null,
   "id": "4c5bb63d-ec7a-4219-999a-a972a17abc19",
   "metadata": {},
   "outputs": [],
   "source": []
  }
 ],
 "metadata": {
  "kernelspec": {
   "display_name": "python3.10",
   "language": "python",
   "name": "python3"
  },
  "language_info": {
   "codemirror_mode": {
    "name": "ipython",
    "version": 3
   },
   "file_extension": ".py",
   "mimetype": "text/x-python",
   "name": "python",
   "nbconvert_exporter": "python",
   "pygments_lexer": "ipython3",
   "version": "3.10.15"
  }
 },
 "nbformat": 4,
 "nbformat_minor": 5
}

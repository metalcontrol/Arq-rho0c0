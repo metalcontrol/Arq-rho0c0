{
 "cells": [
  {
   "cell_type": "code",
   "execution_count": 1,
   "id": "39f09cdf-62d2-4b6f-874a-fefc684b6b56",
   "metadata": {},
   "outputs": [
    {
     "name": "stdout",
     "output_type": "stream",
     "text": [
      "Requirement already satisfied: cookiecutter in c:\\users\\patri\\miniconda3\\envs\\acus125\\lib\\site-packages (2.6.0)\n",
      "Requirement already satisfied: binaryornot>=0.4.4 in c:\\users\\patri\\miniconda3\\envs\\acus125\\lib\\site-packages (from cookiecutter) (0.4.4)\n",
      "Requirement already satisfied: Jinja2<4.0.0,>=2.7 in c:\\users\\patri\\miniconda3\\envs\\acus125\\lib\\site-packages (from cookiecutter) (3.1.4)\n",
      "Requirement already satisfied: click<9.0.0,>=7.0 in c:\\users\\patri\\miniconda3\\envs\\acus125\\lib\\site-packages (from cookiecutter) (8.1.8)\n",
      "Requirement already satisfied: pyyaml>=5.3.1 in c:\\users\\patri\\miniconda3\\envs\\acus125\\lib\\site-packages (from cookiecutter) (6.0.1)\n",
      "Requirement already satisfied: python-slugify>=4.0.0 in c:\\users\\patri\\miniconda3\\envs\\acus125\\lib\\site-packages (from cookiecutter) (8.0.4)\n",
      "Requirement already satisfied: requests>=2.23.0 in c:\\users\\patri\\miniconda3\\envs\\acus125\\lib\\site-packages (from cookiecutter) (2.32.3)\n",
      "Requirement already satisfied: arrow in c:\\users\\patri\\miniconda3\\envs\\acus125\\lib\\site-packages (from cookiecutter) (1.3.0)\n",
      "Requirement already satisfied: rich in c:\\users\\patri\\miniconda3\\envs\\acus125\\lib\\site-packages (from cookiecutter) (13.9.4)\n",
      "Requirement already satisfied: chardet>=3.0.2 in c:\\users\\patri\\miniconda3\\envs\\acus125\\lib\\site-packages (from binaryornot>=0.4.4->cookiecutter) (5.2.0)\n",
      "Requirement already satisfied: colorama in c:\\users\\patri\\miniconda3\\envs\\acus125\\lib\\site-packages (from click<9.0.0,>=7.0->cookiecutter) (0.4.6)\n",
      "Requirement already satisfied: MarkupSafe>=2.0 in c:\\users\\patri\\miniconda3\\envs\\acus125\\lib\\site-packages (from Jinja2<4.0.0,>=2.7->cookiecutter) (2.1.3)\n",
      "Requirement already satisfied: text-unidecode>=1.3 in c:\\users\\patri\\miniconda3\\envs\\acus125\\lib\\site-packages (from python-slugify>=4.0.0->cookiecutter) (1.3)\n",
      "Requirement already satisfied: charset-normalizer<4,>=2 in c:\\users\\patri\\miniconda3\\envs\\acus125\\lib\\site-packages (from requests>=2.23.0->cookiecutter) (3.3.2)\n",
      "Requirement already satisfied: idna<4,>=2.5 in c:\\users\\patri\\miniconda3\\envs\\acus125\\lib\\site-packages (from requests>=2.23.0->cookiecutter) (3.7)\n",
      "Requirement already satisfied: urllib3<3,>=1.21.1 in c:\\users\\patri\\miniconda3\\envs\\acus125\\lib\\site-packages (from requests>=2.23.0->cookiecutter) (2.2.2)\n",
      "Requirement already satisfied: certifi>=2017.4.17 in c:\\users\\patri\\miniconda3\\envs\\acus125\\lib\\site-packages (from requests>=2.23.0->cookiecutter) (2024.7.4)\n",
      "Requirement already satisfied: python-dateutil>=2.7.0 in c:\\users\\patri\\miniconda3\\envs\\acus125\\lib\\site-packages (from arrow->cookiecutter) (2.9.0.post0)\n",
      "Requirement already satisfied: types-python-dateutil>=2.8.10 in c:\\users\\patri\\miniconda3\\envs\\acus125\\lib\\site-packages (from arrow->cookiecutter) (2.9.0.20241206)\n",
      "Requirement already satisfied: markdown-it-py>=2.2.0 in c:\\users\\patri\\miniconda3\\envs\\acus125\\lib\\site-packages (from rich->cookiecutter) (3.0.0)\n",
      "Requirement already satisfied: pygments<3.0.0,>=2.13.0 in c:\\users\\patri\\miniconda3\\envs\\acus125\\lib\\site-packages (from rich->cookiecutter) (2.15.1)\n",
      "Requirement already satisfied: typing-extensions<5.0,>=4.0.0 in c:\\users\\patri\\miniconda3\\envs\\acus125\\lib\\site-packages (from rich->cookiecutter) (4.11.0)\n",
      "Requirement already satisfied: mdurl~=0.1 in c:\\users\\patri\\miniconda3\\envs\\acus125\\lib\\site-packages (from markdown-it-py>=2.2.0->rich->cookiecutter) (0.1.2)\n",
      "Requirement already satisfied: six>=1.5 in c:\\users\\patri\\miniconda3\\envs\\acus125\\lib\\site-packages (from python-dateutil>=2.7.0->arrow->cookiecutter) (1.16.0)\n",
      "Note: you may need to restart the kernel to use updated packages.\n"
     ]
    }
   ],
   "source": [
    "pip install cookiecutter"
   ]
  },
  {
   "cell_type": "code",
   "execution_count": null,
   "id": "930ba22d-0bf6-49b6-aaa9-6bf2d5dd9a5d",
   "metadata": {},
   "outputs": [],
   "source": []
  },
  {
   "cell_type": "code",
   "execution_count": null,
   "id": "d5d32128-8bfa-4137-a48f-48816284c9e9",
   "metadata": {},
   "outputs": [],
   "source": []
  }
 ],
 "metadata": {
  "kernelspec": {
   "display_name": "acus125",
   "language": "python",
   "name": "acus125"
  },
  "language_info": {
   "codemirror_mode": {
    "name": "ipython",
    "version": 3
   },
   "file_extension": ".py",
   "mimetype": "text/x-python",
   "name": "python",
   "nbconvert_exporter": "python",
   "pygments_lexer": "ipython3",
   "version": "3.10.14"
  }
 },
 "nbformat": 4,
 "nbformat_minor": 5
}

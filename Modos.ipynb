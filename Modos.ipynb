{
 "cells": [
  {
   "cell_type": "code",
   "execution_count": 1,
   "id": "a7462bbf-7479-4ea1-8547-71f0104ed5ac",
   "metadata": {},
   "outputs": [],
   "source": [
    "import numpy as np\n",
    "import itertools\n",
    "import matplotlib.pyplot as plt\n",
    "from mpl_toolkits.mplot3d import Axes3D"
   ]
  },
  {
   "cell_type": "code",
   "execution_count": 2,
   "id": "1442327a-3e23-4479-a19b-015ae4a61b25",
   "metadata": {},
   "outputs": [],
   "source": [
    "def frecuencia_modos(nx, ny, nz, lx, ly, lz, c0=343):\n",
    "    return (c0 / 2) * np.sqrt((nx / lx) ** 2 + (ny / ly) ** 2 + (nz / lz) ** 2)"
   ]
  },
  {
   "cell_type": "code",
   "execution_count": 3,
   "id": "cf16e04b-b412-437d-87a0-56528007383f",
   "metadata": {},
   "outputs": [],
   "source": [
    "def clasificar_modo(nx, ny, nz):\n",
    "    num_ceros = sum([nx == 0, ny == 0, nz == 0])\n",
    "    if num_ceros == 2:\n",
    "        return \"Axial\"\n",
    "    elif num_ceros == 1:\n",
    "        return \"Tangencial\"\n",
    "    else:\n",
    "        return \"Oblicuo\""
   ]
  },
  {
   "cell_type": "code",
   "execution_count": 4,
   "id": "40b7647c-6f7c-44da-bd4e-5f1b7e4672b5",
   "metadata": {},
   "outputs": [],
   "source": [
    "# Dimensiones del recinto en metros\n",
    "lx, ly, lz = 3, 4, 3.5"
   ]
  },
  {
   "cell_type": "code",
   "execution_count": 5,
   "id": "5756a72e-f87c-4896-b344-9a3ae128b3b9",
   "metadata": {},
   "outputs": [],
   "source": [
    "modos = itertools.product(range(6), repeat=3)  # Genera combinaciones de (nx, ny, nz)\n",
    "frecuencias = [(nx, ny, nz, frecuencia_modos(nx, ny, nz, lx, ly, lz)) for nx, ny, nz in modos]\n",
    "frecuencias = [f for f in frecuencias if f[3] > 0]\n",
    "frecuencias.sort(key=lambda x: x[3])"
   ]
  },
  {
   "cell_type": "code",
   "execution_count": 6,
   "id": "2f5a4e82-6e1d-4ae3-b164-e623c579621b",
   "metadata": {},
   "outputs": [
    {
     "name": "stdout",
     "output_type": "stream",
     "text": [
      "Las 10 frecuencias más bajas son:\n",
      "1. Modo (0,1,0): 42.88 Hz - Axial\n",
      "2. Modo (0,0,1): 49.00 Hz - Axial\n",
      "3. Modo (1,0,0): 57.17 Hz - Axial\n",
      "4. Modo (0,1,1): 65.11 Hz - Tangencial\n",
      "5. Modo (1,1,0): 71.46 Hz - Tangencial\n",
      "6. Modo (1,0,1): 75.29 Hz - Tangencial\n",
      "7. Modo (0,2,0): 85.75 Hz - Axial\n",
      "8. Modo (1,1,1): 86.64 Hz - Oblicuo\n",
      "9. Modo (0,0,2): 98.00 Hz - Axial\n",
      "10. Modo (0,2,1): 98.76 Hz - Tangencial\n"
     ]
    }
   ],
   "source": [
    "print(\"Las 10 frecuencias más bajas son:\")\n",
    "for i, (nx, ny, nz, f) in enumerate(frecuencias[:10], 1):\n",
    "    tipo = clasificar_modo(nx, ny, nz)\n",
    "    print(f\"{i}. Modo ({nx},{ny},{nz}): {f:.2f} Hz - {tipo}\")"
   ]
  },
  {
   "cell_type": "code",
   "execution_count": null,
   "id": "754e3039-f92d-424c-bc4c-cb7b5b38b6b7",
   "metadata": {},
   "outputs": [],
   "source": []
  }
 ],
 "metadata": {
  "kernelspec": {
   "display_name": "acus125",
   "language": "python",
   "name": "acus125"
  },
  "language_info": {
   "codemirror_mode": {
    "name": "ipython",
    "version": 3
   },
   "file_extension": ".py",
   "mimetype": "text/x-python",
   "name": "python",
   "nbconvert_exporter": "python",
   "pygments_lexer": "ipython3",
   "version": "3.10.14"
  }
 },
 "nbformat": 4,
 "nbformat_minor": 5
}
